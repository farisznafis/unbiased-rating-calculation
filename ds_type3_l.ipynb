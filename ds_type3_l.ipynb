version https://git-lfs.github.com/spec/v1
oid sha256:961570b30f2b79bcdcf2fedaf00c5936505808b04517ba730d6087dc974c1a6d
size 823433
