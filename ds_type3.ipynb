version https://git-lfs.github.com/spec/v1
oid sha256:cf1beca7c71b30f11a79cf214c77d66e1b7560bf6b0fa30870186c759876a50b
size 1394455
